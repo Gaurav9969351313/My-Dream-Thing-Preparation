{
 "cells": [
  {
   "cell_type": "code",
   "execution_count": 15,
   "metadata": {},
   "outputs": [],
   "source": [
    "\n",
    "import requests\n",
    "import json\n",
    "import math\n",
    "from nsepython import * \n",
    "\n",
    "url_oc      = \"https://www.nseindia.com/option-chain\"\n",
    "url_eq = \"https://www.nseindia.com/api/option-chain-equities?symbol=\"\n",
    "\n",
    "# Headers\n",
    "headers = {'user-agent': 'Mozilla/5.0 (Windows NT 10.0; Win64; x64) AppleWebKit/537.36 (KHTML, like Gecko) Chrome/80.0.3987.149 Safari/537.36',\n",
    "            'accept-language': 'en,gu;q=0.9,hi;q=0.8',\n",
    "            'accept-encoding': 'gzip, deflate, br'}\n",
    "\n",
    "sess = requests.Session()\n",
    "cookies = dict()\n",
    "\n",
    "# Local methods\n",
    "def set_cookie():\n",
    "    request = sess.get(url_oc, headers=headers, timeout=5)\n",
    "    cookies = dict(request.cookies)\n",
    "    \n",
    "def get_data(url):\n",
    "    set_cookie()\n",
    "    payload = nsefetch(url)\n",
    "    return payload\n",
    "    \n",
    "    # response = sess.get(url_oc, headers=headers, timeout=5, cookies=cookies)\n",
    "    # set_cookie()\n",
    "    # response = sess.get(url, headers=headers, timeout=5, cookies=cookies)\n",
    "    # if(response.status_code==200):\n",
    "    #     return response.text\n",
    "    # return \"\"\n",
    "\n",
    "\n",
    "def getOIInterPretation(lp_change, coi):\n",
    "    oi_intrepretation = \"\"\n",
    "    if(lp_change>0 and coi>0):\n",
    "        oi_intrepretation = \"Long Buildup\"\n",
    "    if(lp_change>0 and coi<0):\n",
    "        oi_intrepretation = \"Short covering\"\n",
    "    if(lp_change<0 and coi<0):\n",
    "       oi_intrepretation = \"Long Liquidation\"\n",
    "    if(lp_change<0 and coi>0):\n",
    "       oi_intrepretation = \"Short Buildup\"\n",
    "    return oi_intrepretation\n",
    "\n",
    "def print_oi(num,url):\n",
    "    data = get_data(url)\n",
    "    # data = json.loads(response_text)\n",
    "    step = data['records']['strikePrices'][1] - data['records']['strikePrices'][0]\n",
    "    option_chain_data = data['records']['data']\n",
    "    ltp = option_chain_data[0]['PE']['underlyingValue']\n",
    "    strike_price_list = [x['strikePrice'] for x in option_chain_data]\n",
    "    atm_strike = sorted([[round(abs(ltp-i),2),i] for i in strike_price_list])[0][1]\n",
    "    nearest = atm_strike\n",
    "    strike = nearest - (step*num)\n",
    "    start_strike = nearest - (step*num)\n",
    "    currExpiryDate = data[\"records\"][\"expiryDates\"][0]\n",
    "    \n",
    "    oi_interpreted = []\n",
    "    for item in data['records']['data']:\n",
    "        if item[\"expiryDate\"] == currExpiryDate:\n",
    "            if item[\"strikePrice\"] == strike and item[\"strikePrice\"] < start_strike+(step*num*2):\n",
    "                obj = {}\n",
    "                \n",
    "                obj[\"ce_oi\"] = int(item[\"CE\"][\"openInterest\"])\n",
    "                obj[\"ce_coi\"] = float(item[\"CE\"][\"changeinOpenInterest\"])\n",
    "                obj[\"ce_lp\"] = float(item[\"CE\"][\"lastPrice\"])\n",
    "                obj[\"ce_lp_change\"] = float(item[\"CE\"][\"change\"])\n",
    "                obj[\"ce_oi_inteerpretation\"] = getOIInterPretation(obj[\"ce_lp_change\"], obj[\"ce_coi\"])\n",
    "                obj[\"strikePrice\"] = str(item[\"strikePrice\"])\n",
    "                obj[\"pe_lp_change\"] = float(item[\"PE\"][\"change\"])\n",
    "                obj[\"pe_oi\"] = int(item[\"PE\"][\"openInterest\"])\n",
    "                obj[\"pe_coi\"] = float(item[\"PE\"][\"changeinOpenInterest\"])\n",
    "                obj[\"pe_lp\"] = float(item[\"PE\"][\"lastPrice\"])\n",
    "                obj[\"pe_oi_inteerpretation\"] = getOIInterPretation(obj[\"pe_lp_change\"], obj[\"pe_coi\"])\n",
    "                oi_interpreted.append(obj)\n",
    "                # print((str(item[\"strikePrice\"])) + (\" CE \") + \"[ \" + (str(item[\"CE\"][\"openInterest\"]).rjust(30,\" \")) + \" \" + obj[\"ce_oi_inteerpretation\"] + \" ]\" + \n",
    "                                                #    (\" PE \") + \"[ \" + (str(item[\"PE\"][\"openInterest\"]).rjust(30,\" \")) + \" \" + obj[\"pe_oi_inteerpretation\"] + \" ]\")\n",
    "                strike = strike + step\n",
    "    return oi_interpreted"
   ]
  },
  {
   "cell_type": "code",
   "execution_count": 22,
   "metadata": {},
   "outputs": [
    {
     "name": "stdout",
     "output_type": "stream",
     "text": [
      "   ce_oi_inteerpretation   ce_lp  ce_lp_change strikePrice  pe_lp_change  \\\n",
      "0                           0.00          0.00        3120         -0.50   \n",
      "1       Long Liquidation  192.70         -9.30        3140         -0.60   \n",
      "2       Long Liquidation  169.30        -15.55        3160         -0.70   \n",
      "3       Long Liquidation  150.00        -20.00        3180         -0.65   \n",
      "4       Long Liquidation  133.95        -16.45        3200         -0.60   \n",
      "5       Long Liquidation  110.80        -24.20        3220         -0.45   \n",
      "6       Long Liquidation   96.35        -18.30        3240         -0.20   \n",
      "7       Long Liquidation   81.35        -15.80        3260          0.75   \n",
      "8       Long Liquidation   67.25        -13.35        3280          1.35   \n",
      "9       Long Liquidation   53.90        -14.15        3300          3.05   \n",
      "10         Short Buildup   42.35        -13.10        3320          4.25   \n",
      "11         Short Buildup   32.75        -11.20        3340          5.60   \n",
      "12         Short Buildup   24.95         -9.35        3360         10.80   \n",
      "13         Short Buildup   18.20         -7.60        3380          9.10   \n",
      "14         Short Buildup   13.65         -5.65        3400         11.95   \n",
      "15         Short Buildup   10.00         -4.55        3420         16.45   \n",
      "16         Short Buildup    7.70         -3.30        3440         24.15   \n",
      "17         Short Buildup    5.65         -2.75        3460          0.00   \n",
      "18         Short Buildup    4.40         -2.25        3480          0.00   \n",
      "19         Short Buildup    3.60         -1.95        3500         18.50   \n",
      "\n",
      "     pe_lp pe_oi_inteerpretation  \n",
      "0     2.80      Long Liquidation  \n",
      "1     3.20      Long Liquidation  \n",
      "2     3.80      Long Liquidation  \n",
      "3     4.65         Short Buildup  \n",
      "4     5.90         Short Buildup  \n",
      "5     7.40         Short Buildup  \n",
      "6     9.70      Long Liquidation  \n",
      "7    13.65        Short covering  \n",
      "8    18.55        Short covering  \n",
      "9    25.70        Short covering  \n",
      "10   33.80          Long Buildup  \n",
      "11   44.00          Long Buildup  \n",
      "12   58.60          Long Buildup  \n",
      "13   70.55          Long Buildup  \n",
      "14   84.00          Long Buildup  \n",
      "15  103.45          Long Buildup  \n",
      "16  130.50          Long Buildup  \n",
      "17    0.00                        \n",
      "18    0.00                        \n",
      "19  178.00        Short covering  \n"
     ]
    }
   ],
   "source": [
    "oi_interpreted = print_oi(10, url_eq + \"TCS\")\n",
    "fdf = pd.DataFrame(oi_interpreted)\n",
    "print(fdf[[\"ce_oi_inteerpretation\", \"ce_lp\",\"ce_lp_change\", \"strikePrice\", \"pe_lp_change\", \"pe_lp\",\"pe_oi_inteerpretation\"]])"
   ]
  },
  {
   "cell_type": "code",
   "execution_count": 24,
   "metadata": {},
   "outputs": [
    {
     "name": "stdout",
     "output_type": "stream",
     "text": [
      "BEARISH\n",
      "BEARISH\n"
     ]
    }
   ],
   "source": [
    "sum_coi_ce = fdf[\"ce_coi\"].sum()\n",
    "sum_coi_pe = fdf[\"pe_coi\"].sum()\n",
    "\n",
    "sum_lpc_ce = fdf[\"ce_lp_change\"].sum()\n",
    "sum_lpc_pe = fdf[\"pe_lp_change\"].sum()\n",
    "\n",
    "def getIntraDayTrend(sum_coi_ce, sum_coi_pe):\n",
    "    if(sum_coi_ce > sum_coi_pe):\n",
    "        return \"BEARISH\"\n",
    "    elif (sum_coi_ce < sum_coi_pe):\n",
    "        return \"BULLISH\"\n",
    "    \n",
    "intra_day_trend = getIntraDayTrend(sum_coi_ce, sum_coi_pe)\n",
    "overall_trend = getIntraDayTrend(sum_lpc_pe, sum_lpc_ce)\n",
    "\n",
    "print(intra_day_trend)\n",
    "print(overall_trend)"
   ]
  },
  {
   "cell_type": "code",
   "execution_count": 27,
   "metadata": {},
   "outputs": [
    {
     "name": "stdout",
     "output_type": "stream",
     "text": [
      "BUY PE\n"
     ]
    }
   ],
   "source": [
    "if overall_trend == \"BEARISH\":\n",
    "    print(\"BUY PE\")\n",
    "elif (overall_trend == \"BULLISH\"):\n",
    "    print(\"Buy CE\")"
   ]
  }
 ],
 "metadata": {
  "kernelspec": {
   "display_name": "Python 3.10.2 64-bit",
   "language": "python",
   "name": "python3"
  },
  "language_info": {
   "codemirror_mode": {
    "name": "ipython",
    "version": 3
   },
   "file_extension": ".py",
   "mimetype": "text/x-python",
   "name": "python",
   "nbconvert_exporter": "python",
   "pygments_lexer": "ipython3",
   "version": "3.10.2"
  },
  "orig_nbformat": 4,
  "vscode": {
   "interpreter": {
    "hash": "26de051ba29f2982a8de78e945f0abaf191376122a1563185a90213a26c5da77"
   }
  }
 },
 "nbformat": 4,
 "nbformat_minor": 2
}
