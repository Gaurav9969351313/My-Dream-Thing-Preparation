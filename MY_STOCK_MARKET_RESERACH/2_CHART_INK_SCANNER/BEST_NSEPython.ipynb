{
 "cells": [
  {
   "cell_type": "code",
   "execution_count": null,
   "metadata": {},
   "outputs": [],
   "source": [
    "from nsepython import *   \n",
    "import datetime\n",
    "\n",
    "symbol = \"NIFTY 50\"\n",
    "days = 20\n",
    "end_date = datetime.datetime.now().strftime(\"%d-%b-%Y\")\n",
    "end_date = str(end_date)\n",
    "\n",
    "start_date = (datetime.datetime.now()- datetime.timedelta(days=days)).strftime(\"%d-%b-%Y\")\n",
    "start_date = str(start_date)\n",
    "\n",
    "df2=index_history(\"NIFTY 50\",start_date,end_date)\n",
    "df2[\"daily_change\"]=df2[\"CLOSE\"].astype(float) / df2[\"OPEN\"].astype(float) #.pct_change()\n",
    "df2=df2[['Index Name','HistoricalDate','daily_change', 'OPEN','HIGH','LOW', 'CLOSE']]\n",
    "df2 = df2.iloc[1: , :]\n",
    "print(df2)"
   ]
  },
  {
   "cell_type": "code",
   "execution_count": null,
   "metadata": {},
   "outputs": [],
   "source": [
    "nse_events()"
   ]
  },
  {
   "cell_type": "code",
   "execution_count": null,
   "metadata": {},
   "outputs": [],
   "source": [
    "print(nse_fiidii())"
   ]
  },
  {
   "cell_type": "code",
   "execution_count": null,
   "metadata": {},
   "outputs": [],
   "source": [
    "print(nse_get_fno_lot_sizes()) # mode='pandas'"
   ]
  },
  {
   "cell_type": "code",
   "execution_count": null,
   "metadata": {},
   "outputs": [],
   "source": [
    "# key = \"NIFTY\"\n",
    "# key = \"BANKNIFTY\"\n",
    "# key = \"SME\"\n",
    "# key = \"FO\"\n",
    "# key = \"OTHERS\"\n",
    "# key = \"ALL\"\n",
    "import pandas as pd\n",
    "\n",
    "def nse_preopen(key=\"NIFTY\"):\n",
    "    returnTo = []\n",
    "    payload = nsefetch(\"https://www.nseindia.com/api/market-data-pre-open?key=\"+key+\"\")   \n",
    "    dataList = payload['data']\n",
    "    for d in dataList:\n",
    "      \n",
    "        obj = {}\n",
    "        obj['lastUpdateTime'] = d['detail']['preOpenMarket']['lastUpdateTime']\n",
    "        obj['symbol'] = d['metadata']['symbol']\n",
    "        obj['lastPrice'] = d['metadata']['lastPrice']\n",
    "        obj['change'] = d['metadata']['change']\n",
    "        obj['pChange'] = d['metadata']['pChange']\n",
    "        obj['previousClose'] = d['metadata']['previousClose']\n",
    "        obj['yearHigh'] = d['metadata']['yearHigh']\n",
    "        obj['yearLow'] = d['metadata']['yearLow']\n",
    "        returnTo.append(obj)\n",
    "    return returnTo\n",
    "\n",
    "nse_preopen(\"NIFTY\")"
   ]
  },
  {
   "cell_type": "code",
   "execution_count": null,
   "metadata": {},
   "outputs": [],
   "source": [
    "\n",
    "pre_open_df = pd.DataFrame(nse_preopen(\"NIFTY\"))\n",
    "pre_open_df"
   ]
  },
  {
   "cell_type": "code",
   "execution_count": null,
   "metadata": {},
   "outputs": [],
   "source": [
    "positions = nsefetch('https://www.nseindia.com/api/equity-stockIndices?index=SECURITIES%20IN%20F%26O')\n",
    "# print(positions)\n",
    "postions_df = pd.DataFrame(positions['data'])\n",
    "postions_df.columns.values\n",
    "\n",
    "postions_df[['symbol', 'identifier', 'series', 'open', 'dayHigh', 'dayLow',\n",
    "       'lastPrice', 'previousClose', 'change', 'pChange', 'yearHigh', 'yearLow', 'nearWKH', 'nearWKL', 'perChange365d',\n",
    "       'date365dAgo', 'chart365dPath', 'date30dAgo', 'perChange30d']]"
   ]
  },
  {
   "cell_type": "code",
   "execution_count": null,
   "metadata": {},
   "outputs": [],
   "source": [
    "def nse_optionchain_ltp(payload,strikePrice,optionType,inp=0,intent=\"\"):\n",
    "    expiryDate=payload['records']['expiryDates'][inp]\n",
    "    for x in range(len(payload['records']['data'])):\n",
    "      if((payload['records']['data'][x]['strikePrice']==strikePrice) & (payload['records']['data'][x]['expiryDate']==expiryDate)):\n",
    "          if(intent==\"\"): \n",
    "              return payload['records']['data'][x][optionType]['lastPrice']\n",
    "          if(intent==\"sell\"): \n",
    "              return payload['records']['data'][x][optionType]['bidprice']\n",
    "          if(intent==\"buy\"): \n",
    "              return payload['records']['data'][x][optionType]['askPrice']\n",
    "          \n",
    "payload=nse_optionchain_scrapper('BANKNIFTY')\n",
    "print(nse_optionchain_ltp(payload,41000,\"CE\",0,\"sell\"))"
   ]
  },
  {
   "cell_type": "code",
   "execution_count": null,
   "metadata": {},
   "outputs": [],
   "source": [
    "print(nse_marketStatus())"
   ]
  },
  {
   "cell_type": "code",
   "execution_count": null,
   "metadata": {},
   "outputs": [],
   "source": [
    "print(nse_fiidii())\n"
   ]
  },
  {
   "cell_type": "code",
   "execution_count": null,
   "metadata": {},
   "outputs": [],
   "source": [
    "index_df = nse_index()\n",
    "index_df = index_df[['timeVal', 'indexName', 'percChange',  'last', 'previousClose', 'high' , 'low', 'open', 'yearHigh', 'yearLow']]\n",
    "index_df = index_df[((index_df['indexName'] == 'NIFTY 50') |\n",
    "                      (index_df['indexName'] == 'NIFTY BANK') |\n",
    "                     (index_df['indexName'] == 'NIFTY NEXT 50') | \n",
    "                    \n",
    "                     (index_df['indexName'] == 'INDIA VIX')\n",
    "                     )]\n",
    "index_df"
   ]
  },
  {
   "cell_type": "code",
   "execution_count": null,
   "metadata": {},
   "outputs": [],
   "source": [
    "nse_index()"
   ]
  },
  {
   "cell_type": "code",
   "execution_count": null,
   "metadata": {},
   "outputs": [],
   "source": [
    "print(nse_get_advances_declines())\n",
    "print(nse_get_advances_declines().columns.values)\n"
   ]
  },
  {
   "cell_type": "code",
   "execution_count": null,
   "metadata": {},
   "outputs": [],
   "source": [
    "indiavix()\n",
    "print(index_info(\"INDIA VIX\"))\n"
   ]
  },
  {
   "cell_type": "code",
   "execution_count": null,
   "metadata": {},
   "outputs": [],
   "source": [
    "S0 = 34950.60\n",
    "X = 35000.00\n",
    "σ = 14.72\n",
    "t = 3\n",
    "call_theta,put_theta,call_premium,put_premium,call_delta,put_delta,gamma,vega,call_rho,put_rho=black_scholes_dexter(S0,X,t,σ=\"\",r=10,q=0.0,td=365)\n",
    "print(call_theta)\n",
    "print(put_theta)\n",
    "print(call_premium)\n",
    "print(put_premium)\n",
    "print(call_delta)\n",
    "print(put_delta)\n",
    "print(gamma)\n",
    "print(vega)\n",
    "print(call_rho)\n",
    "print(put_rho)"
   ]
  },
  {
   "cell_type": "code",
   "execution_count": null,
   "metadata": {},
   "outputs": [],
   "source": [
    "print(get_bhavcopy(\"04-06-2021\"))\n"
   ]
  },
  {
   "cell_type": "code",
   "execution_count": null,
   "metadata": {},
   "outputs": [],
   "source": [
    "nse_preopen_movers(key=\"FO\")\n"
   ]
  },
  {
   "cell_type": "code",
   "execution_count": null,
   "metadata": {},
   "outputs": [],
   "source": [
    "movers=nse_preopen_movers(\"NIFTY\")\n",
    "# print(gainers)\n",
    "print(movers)"
   ]
  },
  {
   "cell_type": "code",
   "execution_count": null,
   "metadata": {},
   "outputs": [],
   "source": [
    "nse_most_active(type=\"securities\",sort=\"volume\")\n",
    "# type = \"securities\" (default)\n",
    "# type = \"etf\"\n",
    "# type = \"sme\"\n",
    "\n",
    "# sort = \"volume\"\n",
    "# sort = \"value\" (default)\n"
   ]
  },
  {
   "cell_type": "code",
   "execution_count": null,
   "metadata": {},
   "outputs": [],
   "source": [
    "from nsepython import *  \n",
    "from datetime import datetime\n",
    "import pandas as pd\n",
    "\n",
    "underlying_option_symbol = \"BANKNIFTY\" \n",
    "script_master = pd.read_csv('./scrip_master.csv')\n",
    "\n",
    "# BANKNIFTY20OCT2232000PE\n",
    "def getFNOToken(underlying_option_symbol, index, strike, option_type):\n",
    "    underlying_option_expiry_list = expiry_list(underlying_option_symbol)\n",
    "    date_object = datetime.strptime(underlying_option_expiry_list[index], '%d-%b-%Y')\n",
    "    str_date = date_object.strftime('%d%b%Y').replace('20', '')\n",
    "    str_date = str_date.upper()\n",
    "    symbol_to = underlying_option_symbol+str_date+strike+option_type\n",
    "    df = script_master[script_master['symbol'] == symbol_to]\n",
    "    return df[['symbol', 'token', 'name', 'expiry', 'strike', 'lotsize']]\n",
    "    \n",
    "getFNOToken(\"BANKNIFTY\", 0, \"41500\",\"CE\")\n"
   ]
  },
  {
   "cell_type": "code",
   "execution_count": null,
   "metadata": {},
   "outputs": [],
   "source": []
  },
  {
   "cell_type": "code",
   "execution_count": 5,
   "metadata": {},
   "outputs": [
    {
     "data": {
      "text/plain": [
       "(65.95, 71)"
      ]
     },
     "execution_count": 5,
     "metadata": {},
     "output_type": "execute_result"
    }
   ],
   "source": [
    "\n",
    "from nsepython import *\n",
    "def get_atm_strike(symbol):\n",
    "    symbol = symbol.upper()\n",
    "    option_chain_json = nse_optionchain_scrapper(symbol)\n",
    "    data = option_chain_json['filtered']['data']\n",
    "    ltp = data[0]['PE']['underlyingValue']\n",
    "    strike_price_list = [x['strikePrice'] for x in data]\n",
    "    atm_strike = sorted([[round(abs(ltp-i),2),i] for i in strike_price_list])[0][1]\n",
    "    return atm_strike\n",
    "\n",
    "def get_pe_ce_price(symbol,atm_strike):\n",
    "    symbol = symbol.upper()\n",
    "    option_chain = nse_optionchain_scrapper(symbol)\n",
    "    for dictt in option_chain['filtered']['data']:\n",
    "        if dictt['strikePrice'] ==atm_strike:\n",
    "            pe_price = dictt['PE']['askPrice']\n",
    "            ce_price = dictt['CE']['askPrice']\n",
    "            return pe_price,ce_price\n",
    "        \n",
    "atm_strike = get_atm_strike(\"NIFTY\")\n",
    "get_pe_ce_price(\"NIFTY\", atm_strike)"
   ]
  },
  {
   "cell_type": "code",
   "execution_count": 8,
   "metadata": {},
   "outputs": [
    {
     "name": "stderr",
     "output_type": "stream",
     "text": [
      "C:\\Users\\tejal\\AppData\\Roaming\\Python\\Python310\\site-packages\\nsepython\\rahu.py:147: FutureWarning: The frame.append method is deprecated and will be removed from pandas in a future version. Use pandas.concat instead.\n",
      "  oi_data = oi_data.append(oi_row, ignore_index=True)\n",
      "C:\\Users\\tejal\\AppData\\Roaming\\Python\\Python310\\site-packages\\nsepython\\rahu.py:147: FutureWarning: The frame.append method is deprecated and will be removed from pandas in a future version. Use pandas.concat instead.\n",
      "  oi_data = oi_data.append(oi_row, ignore_index=True)\n",
      "C:\\Users\\tejal\\AppData\\Roaming\\Python\\Python310\\site-packages\\nsepython\\rahu.py:147: FutureWarning: The frame.append method is deprecated and will be removed from pandas in a future version. Use pandas.concat instead.\n",
      "  oi_data = oi_data.append(oi_row, ignore_index=True)\n",
      "C:\\Users\\tejal\\AppData\\Roaming\\Python\\Python310\\site-packages\\nsepython\\rahu.py:147: FutureWarning: The frame.append method is deprecated and will be removed from pandas in a future version. Use pandas.concat instead.\n",
      "  oi_data = oi_data.append(oi_row, ignore_index=True)\n",
      "C:\\Users\\tejal\\AppData\\Roaming\\Python\\Python310\\site-packages\\nsepython\\rahu.py:147: FutureWarning: The frame.append method is deprecated and will be removed from pandas in a future version. Use pandas.concat instead.\n",
      "  oi_data = oi_data.append(oi_row, ignore_index=True)\n",
      "C:\\Users\\tejal\\AppData\\Roaming\\Python\\Python310\\site-packages\\nsepython\\rahu.py:147: FutureWarning: The frame.append method is deprecated and will be removed from pandas in a future version. Use pandas.concat instead.\n",
      "  oi_data = oi_data.append(oi_row, ignore_index=True)\n",
      "C:\\Users\\tejal\\AppData\\Roaming\\Python\\Python310\\site-packages\\nsepython\\rahu.py:147: FutureWarning: The frame.append method is deprecated and will be removed from pandas in a future version. Use pandas.concat instead.\n",
      "  oi_data = oi_data.append(oi_row, ignore_index=True)\n",
      "C:\\Users\\tejal\\AppData\\Roaming\\Python\\Python310\\site-packages\\nsepython\\rahu.py:147: FutureWarning: The frame.append method is deprecated and will be removed from pandas in a future version. Use pandas.concat instead.\n",
      "  oi_data = oi_data.append(oi_row, ignore_index=True)\n",
      "C:\\Users\\tejal\\AppData\\Roaming\\Python\\Python310\\site-packages\\nsepython\\rahu.py:147: FutureWarning: The frame.append method is deprecated and will be removed from pandas in a future version. Use pandas.concat instead.\n",
      "  oi_data = oi_data.append(oi_row, ignore_index=True)\n",
      "C:\\Users\\tejal\\AppData\\Roaming\\Python\\Python310\\site-packages\\nsepython\\rahu.py:147: FutureWarning: The frame.append method is deprecated and will be removed from pandas in a future version. Use pandas.concat instead.\n",
      "  oi_data = oi_data.append(oi_row, ignore_index=True)\n",
      "C:\\Users\\tejal\\AppData\\Roaming\\Python\\Python310\\site-packages\\nsepython\\rahu.py:147: FutureWarning: The frame.append method is deprecated and will be removed from pandas in a future version. Use pandas.concat instead.\n",
      "  oi_data = oi_data.append(oi_row, ignore_index=True)\n",
      "C:\\Users\\tejal\\AppData\\Roaming\\Python\\Python310\\site-packages\\nsepython\\rahu.py:147: FutureWarning: The frame.append method is deprecated and will be removed from pandas in a future version. Use pandas.concat instead.\n",
      "  oi_data = oi_data.append(oi_row, ignore_index=True)\n",
      "C:\\Users\\tejal\\AppData\\Roaming\\Python\\Python310\\site-packages\\nsepython\\rahu.py:147: FutureWarning: The frame.append method is deprecated and will be removed from pandas in a future version. Use pandas.concat instead.\n",
      "  oi_data = oi_data.append(oi_row, ignore_index=True)\n",
      "C:\\Users\\tejal\\AppData\\Roaming\\Python\\Python310\\site-packages\\nsepython\\rahu.py:147: FutureWarning: The frame.append method is deprecated and will be removed from pandas in a future version. Use pandas.concat instead.\n",
      "  oi_data = oi_data.append(oi_row, ignore_index=True)\n",
      "C:\\Users\\tejal\\AppData\\Roaming\\Python\\Python310\\site-packages\\nsepython\\rahu.py:147: FutureWarning: The frame.append method is deprecated and will be removed from pandas in a future version. Use pandas.concat instead.\n",
      "  oi_data = oi_data.append(oi_row, ignore_index=True)\n",
      "C:\\Users\\tejal\\AppData\\Roaming\\Python\\Python310\\site-packages\\nsepython\\rahu.py:147: FutureWarning: The frame.append method is deprecated and will be removed from pandas in a future version. Use pandas.concat instead.\n",
      "  oi_data = oi_data.append(oi_row, ignore_index=True)\n",
      "C:\\Users\\tejal\\AppData\\Roaming\\Python\\Python310\\site-packages\\nsepython\\rahu.py:147: FutureWarning: The frame.append method is deprecated and will be removed from pandas in a future version. Use pandas.concat instead.\n",
      "  oi_data = oi_data.append(oi_row, ignore_index=True)\n",
      "C:\\Users\\tejal\\AppData\\Roaming\\Python\\Python310\\site-packages\\nsepython\\rahu.py:147: FutureWarning: The frame.append method is deprecated and will be removed from pandas in a future version. Use pandas.concat instead.\n",
      "  oi_data = oi_data.append(oi_row, ignore_index=True)\n",
      "C:\\Users\\tejal\\AppData\\Roaming\\Python\\Python310\\site-packages\\nsepython\\rahu.py:147: FutureWarning: The frame.append method is deprecated and will be removed from pandas in a future version. Use pandas.concat instead.\n",
      "  oi_data = oi_data.append(oi_row, ignore_index=True)\n",
      "C:\\Users\\tejal\\AppData\\Roaming\\Python\\Python310\\site-packages\\nsepython\\rahu.py:147: FutureWarning: The frame.append method is deprecated and will be removed from pandas in a future version. Use pandas.concat instead.\n",
      "  oi_data = oi_data.append(oi_row, ignore_index=True)\n",
      "C:\\Users\\tejal\\AppData\\Roaming\\Python\\Python310\\site-packages\\nsepython\\rahu.py:147: FutureWarning: The frame.append method is deprecated and will be removed from pandas in a future version. Use pandas.concat instead.\n",
      "  oi_data = oi_data.append(oi_row, ignore_index=True)\n",
      "C:\\Users\\tejal\\AppData\\Roaming\\Python\\Python310\\site-packages\\nsepython\\rahu.py:147: FutureWarning: The frame.append method is deprecated and will be removed from pandas in a future version. Use pandas.concat instead.\n",
      "  oi_data = oi_data.append(oi_row, ignore_index=True)\n",
      "C:\\Users\\tejal\\AppData\\Roaming\\Python\\Python310\\site-packages\\nsepython\\rahu.py:147: FutureWarning: The frame.append method is deprecated and will be removed from pandas in a future version. Use pandas.concat instead.\n",
      "  oi_data = oi_data.append(oi_row, ignore_index=True)\n",
      "C:\\Users\\tejal\\AppData\\Roaming\\Python\\Python310\\site-packages\\nsepython\\rahu.py:147: FutureWarning: The frame.append method is deprecated and will be removed from pandas in a future version. Use pandas.concat instead.\n",
      "  oi_data = oi_data.append(oi_row, ignore_index=True)\n",
      "C:\\Users\\tejal\\AppData\\Roaming\\Python\\Python310\\site-packages\\nsepython\\rahu.py:147: FutureWarning: The frame.append method is deprecated and will be removed from pandas in a future version. Use pandas.concat instead.\n",
      "  oi_data = oi_data.append(oi_row, ignore_index=True)\n",
      "C:\\Users\\tejal\\AppData\\Roaming\\Python\\Python310\\site-packages\\nsepython\\rahu.py:147: FutureWarning: The frame.append method is deprecated and will be removed from pandas in a future version. Use pandas.concat instead.\n",
      "  oi_data = oi_data.append(oi_row, ignore_index=True)\n",
      "C:\\Users\\tejal\\AppData\\Roaming\\Python\\Python310\\site-packages\\nsepython\\rahu.py:147: FutureWarning: The frame.append method is deprecated and will be removed from pandas in a future version. Use pandas.concat instead.\n",
      "  oi_data = oi_data.append(oi_row, ignore_index=True)\n",
      "C:\\Users\\tejal\\AppData\\Roaming\\Python\\Python310\\site-packages\\nsepython\\rahu.py:147: FutureWarning: The frame.append method is deprecated and will be removed from pandas in a future version. Use pandas.concat instead.\n",
      "  oi_data = oi_data.append(oi_row, ignore_index=True)\n",
      "C:\\Users\\tejal\\AppData\\Roaming\\Python\\Python310\\site-packages\\nsepython\\rahu.py:147: FutureWarning: The frame.append method is deprecated and will be removed from pandas in a future version. Use pandas.concat instead.\n",
      "  oi_data = oi_data.append(oi_row, ignore_index=True)\n",
      "C:\\Users\\tejal\\AppData\\Roaming\\Python\\Python310\\site-packages\\nsepython\\rahu.py:147: FutureWarning: The frame.append method is deprecated and will be removed from pandas in a future version. Use pandas.concat instead.\n",
      "  oi_data = oi_data.append(oi_row, ignore_index=True)\n",
      "C:\\Users\\tejal\\AppData\\Roaming\\Python\\Python310\\site-packages\\nsepython\\rahu.py:147: FutureWarning: The frame.append method is deprecated and will be removed from pandas in a future version. Use pandas.concat instead.\n",
      "  oi_data = oi_data.append(oi_row, ignore_index=True)\n",
      "C:\\Users\\tejal\\AppData\\Roaming\\Python\\Python310\\site-packages\\nsepython\\rahu.py:147: FutureWarning: The frame.append method is deprecated and will be removed from pandas in a future version. Use pandas.concat instead.\n",
      "  oi_data = oi_data.append(oi_row, ignore_index=True)\n",
      "C:\\Users\\tejal\\AppData\\Roaming\\Python\\Python310\\site-packages\\nsepython\\rahu.py:147: FutureWarning: The frame.append method is deprecated and will be removed from pandas in a future version. Use pandas.concat instead.\n",
      "  oi_data = oi_data.append(oi_row, ignore_index=True)\n",
      "C:\\Users\\tejal\\AppData\\Roaming\\Python\\Python310\\site-packages\\nsepython\\rahu.py:147: FutureWarning: The frame.append method is deprecated and will be removed from pandas in a future version. Use pandas.concat instead.\n",
      "  oi_data = oi_data.append(oi_row, ignore_index=True)\n",
      "C:\\Users\\tejal\\AppData\\Roaming\\Python\\Python310\\site-packages\\nsepython\\rahu.py:147: FutureWarning: The frame.append method is deprecated and will be removed from pandas in a future version. Use pandas.concat instead.\n",
      "  oi_data = oi_data.append(oi_row, ignore_index=True)\n",
      "C:\\Users\\tejal\\AppData\\Roaming\\Python\\Python310\\site-packages\\nsepython\\rahu.py:147: FutureWarning: The frame.append method is deprecated and will be removed from pandas in a future version. Use pandas.concat instead.\n",
      "  oi_data = oi_data.append(oi_row, ignore_index=True)\n",
      "C:\\Users\\tejal\\AppData\\Roaming\\Python\\Python310\\site-packages\\nsepython\\rahu.py:147: FutureWarning: The frame.append method is deprecated and will be removed from pandas in a future version. Use pandas.concat instead.\n",
      "  oi_data = oi_data.append(oi_row, ignore_index=True)\n",
      "C:\\Users\\tejal\\AppData\\Roaming\\Python\\Python310\\site-packages\\nsepython\\rahu.py:147: FutureWarning: The frame.append method is deprecated and will be removed from pandas in a future version. Use pandas.concat instead.\n",
      "  oi_data = oi_data.append(oi_row, ignore_index=True)\n",
      "C:\\Users\\tejal\\AppData\\Roaming\\Python\\Python310\\site-packages\\nsepython\\rahu.py:147: FutureWarning: The frame.append method is deprecated and will be removed from pandas in a future version. Use pandas.concat instead.\n",
      "  oi_data = oi_data.append(oi_row, ignore_index=True)\n",
      "C:\\Users\\tejal\\AppData\\Roaming\\Python\\Python310\\site-packages\\nsepython\\rahu.py:147: FutureWarning: The frame.append method is deprecated and will be removed from pandas in a future version. Use pandas.concat instead.\n",
      "  oi_data = oi_data.append(oi_row, ignore_index=True)\n",
      "C:\\Users\\tejal\\AppData\\Roaming\\Python\\Python310\\site-packages\\nsepython\\rahu.py:147: FutureWarning: The frame.append method is deprecated and will be removed from pandas in a future version. Use pandas.concat instead.\n",
      "  oi_data = oi_data.append(oi_row, ignore_index=True)\n",
      "C:\\Users\\tejal\\AppData\\Roaming\\Python\\Python310\\site-packages\\nsepython\\rahu.py:147: FutureWarning: The frame.append method is deprecated and will be removed from pandas in a future version. Use pandas.concat instead.\n",
      "  oi_data = oi_data.append(oi_row, ignore_index=True)\n",
      "C:\\Users\\tejal\\AppData\\Roaming\\Python\\Python310\\site-packages\\nsepython\\rahu.py:147: FutureWarning: The frame.append method is deprecated and will be removed from pandas in a future version. Use pandas.concat instead.\n",
      "  oi_data = oi_data.append(oi_row, ignore_index=True)\n",
      "C:\\Users\\tejal\\AppData\\Roaming\\Python\\Python310\\site-packages\\nsepython\\rahu.py:147: FutureWarning: The frame.append method is deprecated and will be removed from pandas in a future version. Use pandas.concat instead.\n",
      "  oi_data = oi_data.append(oi_row, ignore_index=True)\n",
      "C:\\Users\\tejal\\AppData\\Roaming\\Python\\Python310\\site-packages\\nsepython\\rahu.py:147: FutureWarning: The frame.append method is deprecated and will be removed from pandas in a future version. Use pandas.concat instead.\n",
      "  oi_data = oi_data.append(oi_row, ignore_index=True)\n",
      "C:\\Users\\tejal\\AppData\\Roaming\\Python\\Python310\\site-packages\\nsepython\\rahu.py:147: FutureWarning: The frame.append method is deprecated and will be removed from pandas in a future version. Use pandas.concat instead.\n",
      "  oi_data = oi_data.append(oi_row, ignore_index=True)\n",
      "C:\\Users\\tejal\\AppData\\Roaming\\Python\\Python310\\site-packages\\nsepython\\rahu.py:147: FutureWarning: The frame.append method is deprecated and will be removed from pandas in a future version. Use pandas.concat instead.\n",
      "  oi_data = oi_data.append(oi_row, ignore_index=True)\n",
      "C:\\Users\\tejal\\AppData\\Roaming\\Python\\Python310\\site-packages\\nsepython\\rahu.py:147: FutureWarning: The frame.append method is deprecated and will be removed from pandas in a future version. Use pandas.concat instead.\n",
      "  oi_data = oi_data.append(oi_row, ignore_index=True)\n",
      "C:\\Users\\tejal\\AppData\\Roaming\\Python\\Python310\\site-packages\\nsepython\\rahu.py:147: FutureWarning: The frame.append method is deprecated and will be removed from pandas in a future version. Use pandas.concat instead.\n",
      "  oi_data = oi_data.append(oi_row, ignore_index=True)\n",
      "C:\\Users\\tejal\\AppData\\Roaming\\Python\\Python310\\site-packages\\nsepython\\rahu.py:147: FutureWarning: The frame.append method is deprecated and will be removed from pandas in a future version. Use pandas.concat instead.\n",
      "  oi_data = oi_data.append(oi_row, ignore_index=True)\n",
      "C:\\Users\\tejal\\AppData\\Roaming\\Python\\Python310\\site-packages\\nsepython\\rahu.py:147: FutureWarning: The frame.append method is deprecated and will be removed from pandas in a future version. Use pandas.concat instead.\n",
      "  oi_data = oi_data.append(oi_row, ignore_index=True)\n",
      "C:\\Users\\tejal\\AppData\\Roaming\\Python\\Python310\\site-packages\\nsepython\\rahu.py:147: FutureWarning: The frame.append method is deprecated and will be removed from pandas in a future version. Use pandas.concat instead.\n",
      "  oi_data = oi_data.append(oi_row, ignore_index=True)\n",
      "C:\\Users\\tejal\\AppData\\Roaming\\Python\\Python310\\site-packages\\nsepython\\rahu.py:147: FutureWarning: The frame.append method is deprecated and will be removed from pandas in a future version. Use pandas.concat instead.\n",
      "  oi_data = oi_data.append(oi_row, ignore_index=True)\n",
      "C:\\Users\\tejal\\AppData\\Roaming\\Python\\Python310\\site-packages\\nsepython\\rahu.py:147: FutureWarning: The frame.append method is deprecated and will be removed from pandas in a future version. Use pandas.concat instead.\n",
      "  oi_data = oi_data.append(oi_row, ignore_index=True)\n",
      "C:\\Users\\tejal\\AppData\\Roaming\\Python\\Python310\\site-packages\\nsepython\\rahu.py:147: FutureWarning: The frame.append method is deprecated and will be removed from pandas in a future version. Use pandas.concat instead.\n",
      "  oi_data = oi_data.append(oi_row, ignore_index=True)\n",
      "C:\\Users\\tejal\\AppData\\Roaming\\Python\\Python310\\site-packages\\nsepython\\rahu.py:147: FutureWarning: The frame.append method is deprecated and will be removed from pandas in a future version. Use pandas.concat instead.\n",
      "  oi_data = oi_data.append(oi_row, ignore_index=True)\n",
      "C:\\Users\\tejal\\AppData\\Roaming\\Python\\Python310\\site-packages\\nsepython\\rahu.py:147: FutureWarning: The frame.append method is deprecated and will be removed from pandas in a future version. Use pandas.concat instead.\n",
      "  oi_data = oi_data.append(oi_row, ignore_index=True)\n",
      "C:\\Users\\tejal\\AppData\\Roaming\\Python\\Python310\\site-packages\\nsepython\\rahu.py:147: FutureWarning: The frame.append method is deprecated and will be removed from pandas in a future version. Use pandas.concat instead.\n",
      "  oi_data = oi_data.append(oi_row, ignore_index=True)\n",
      "C:\\Users\\tejal\\AppData\\Roaming\\Python\\Python310\\site-packages\\nsepython\\rahu.py:147: FutureWarning: The frame.append method is deprecated and will be removed from pandas in a future version. Use pandas.concat instead.\n",
      "  oi_data = oi_data.append(oi_row, ignore_index=True)\n",
      "C:\\Users\\tejal\\AppData\\Roaming\\Python\\Python310\\site-packages\\nsepython\\rahu.py:147: FutureWarning: The frame.append method is deprecated and will be removed from pandas in a future version. Use pandas.concat instead.\n",
      "  oi_data = oi_data.append(oi_row, ignore_index=True)\n",
      "C:\\Users\\tejal\\AppData\\Roaming\\Python\\Python310\\site-packages\\nsepython\\rahu.py:147: FutureWarning: The frame.append method is deprecated and will be removed from pandas in a future version. Use pandas.concat instead.\n",
      "  oi_data = oi_data.append(oi_row, ignore_index=True)\n",
      "C:\\Users\\tejal\\AppData\\Roaming\\Python\\Python310\\site-packages\\nsepython\\rahu.py:147: FutureWarning: The frame.append method is deprecated and will be removed from pandas in a future version. Use pandas.concat instead.\n",
      "  oi_data = oi_data.append(oi_row, ignore_index=True)\n",
      "C:\\Users\\tejal\\AppData\\Roaming\\Python\\Python310\\site-packages\\nsepython\\rahu.py:147: FutureWarning: The frame.append method is deprecated and will be removed from pandas in a future version. Use pandas.concat instead.\n",
      "  oi_data = oi_data.append(oi_row, ignore_index=True)\n",
      "C:\\Users\\tejal\\AppData\\Roaming\\Python\\Python310\\site-packages\\nsepython\\rahu.py:147: FutureWarning: The frame.append method is deprecated and will be removed from pandas in a future version. Use pandas.concat instead.\n",
      "  oi_data = oi_data.append(oi_row, ignore_index=True)\n",
      "C:\\Users\\tejal\\AppData\\Roaming\\Python\\Python310\\site-packages\\nsepython\\rahu.py:147: FutureWarning: The frame.append method is deprecated and will be removed from pandas in a future version. Use pandas.concat instead.\n",
      "  oi_data = oi_data.append(oi_row, ignore_index=True)\n",
      "C:\\Users\\tejal\\AppData\\Roaming\\Python\\Python310\\site-packages\\nsepython\\rahu.py:147: FutureWarning: The frame.append method is deprecated and will be removed from pandas in a future version. Use pandas.concat instead.\n",
      "  oi_data = oi_data.append(oi_row, ignore_index=True)\n",
      "C:\\Users\\tejal\\AppData\\Roaming\\Python\\Python310\\site-packages\\nsepython\\rahu.py:147: FutureWarning: The frame.append method is deprecated and will be removed from pandas in a future version. Use pandas.concat instead.\n",
      "  oi_data = oi_data.append(oi_row, ignore_index=True)\n",
      "C:\\Users\\tejal\\AppData\\Roaming\\Python\\Python310\\site-packages\\nsepython\\rahu.py:147: FutureWarning: The frame.append method is deprecated and will be removed from pandas in a future version. Use pandas.concat instead.\n",
      "  oi_data = oi_data.append(oi_row, ignore_index=True)\n",
      "C:\\Users\\tejal\\AppData\\Roaming\\Python\\Python310\\site-packages\\nsepython\\rahu.py:147: FutureWarning: The frame.append method is deprecated and will be removed from pandas in a future version. Use pandas.concat instead.\n",
      "  oi_data = oi_data.append(oi_row, ignore_index=True)\n",
      "C:\\Users\\tejal\\AppData\\Roaming\\Python\\Python310\\site-packages\\nsepython\\rahu.py:147: FutureWarning: The frame.append method is deprecated and will be removed from pandas in a future version. Use pandas.concat instead.\n",
      "  oi_data = oi_data.append(oi_row, ignore_index=True)\n",
      "C:\\Users\\tejal\\AppData\\Roaming\\Python\\Python310\\site-packages\\nsepython\\rahu.py:147: FutureWarning: The frame.append method is deprecated and will be removed from pandas in a future version. Use pandas.concat instead.\n",
      "  oi_data = oi_data.append(oi_row, ignore_index=True)\n",
      "C:\\Users\\tejal\\AppData\\Roaming\\Python\\Python310\\site-packages\\nsepython\\rahu.py:147: FutureWarning: The frame.append method is deprecated and will be removed from pandas in a future version. Use pandas.concat instead.\n",
      "  oi_data = oi_data.append(oi_row, ignore_index=True)\n",
      "C:\\Users\\tejal\\AppData\\Roaming\\Python\\Python310\\site-packages\\nsepython\\rahu.py:147: FutureWarning: The frame.append method is deprecated and will be removed from pandas in a future version. Use pandas.concat instead.\n",
      "  oi_data = oi_data.append(oi_row, ignore_index=True)\n",
      "C:\\Users\\tejal\\AppData\\Roaming\\Python\\Python310\\site-packages\\nsepython\\rahu.py:147: FutureWarning: The frame.append method is deprecated and will be removed from pandas in a future version. Use pandas.concat instead.\n",
      "  oi_data = oi_data.append(oi_row, ignore_index=True)\n",
      "C:\\Users\\tejal\\AppData\\Roaming\\Python\\Python310\\site-packages\\nsepython\\rahu.py:147: FutureWarning: The frame.append method is deprecated and will be removed from pandas in a future version. Use pandas.concat instead.\n",
      "  oi_data = oi_data.append(oi_row, ignore_index=True)\n",
      "C:\\Users\\tejal\\AppData\\Roaming\\Python\\Python310\\site-packages\\nsepython\\rahu.py:147: FutureWarning: The frame.append method is deprecated and will be removed from pandas in a future version. Use pandas.concat instead.\n",
      "  oi_data = oi_data.append(oi_row, ignore_index=True)\n",
      "C:\\Users\\tejal\\AppData\\Roaming\\Python\\Python310\\site-packages\\nsepython\\rahu.py:147: FutureWarning: The frame.append method is deprecated and will be removed from pandas in a future version. Use pandas.concat instead.\n",
      "  oi_data = oi_data.append(oi_row, ignore_index=True)\n",
      "C:\\Users\\tejal\\AppData\\Roaming\\Python\\Python310\\site-packages\\nsepython\\rahu.py:147: FutureWarning: The frame.append method is deprecated and will be removed from pandas in a future version. Use pandas.concat instead.\n",
      "  oi_data = oi_data.append(oi_row, ignore_index=True)\n",
      "C:\\Users\\tejal\\AppData\\Roaming\\Python\\Python310\\site-packages\\nsepython\\rahu.py:147: FutureWarning: The frame.append method is deprecated and will be removed from pandas in a future version. Use pandas.concat instead.\n",
      "  oi_data = oi_data.append(oi_row, ignore_index=True)\n",
      "C:\\Users\\tejal\\AppData\\Roaming\\Python\\Python310\\site-packages\\nsepython\\rahu.py:147: FutureWarning: The frame.append method is deprecated and will be removed from pandas in a future version. Use pandas.concat instead.\n",
      "  oi_data = oi_data.append(oi_row, ignore_index=True)\n",
      "C:\\Users\\tejal\\AppData\\Roaming\\Python\\Python310\\site-packages\\nsepython\\rahu.py:147: FutureWarning: The frame.append method is deprecated and will be removed from pandas in a future version. Use pandas.concat instead.\n",
      "  oi_data = oi_data.append(oi_row, ignore_index=True)\n",
      "C:\\Users\\tejal\\AppData\\Roaming\\Python\\Python310\\site-packages\\nsepython\\rahu.py:147: FutureWarning: The frame.append method is deprecated and will be removed from pandas in a future version. Use pandas.concat instead.\n",
      "  oi_data = oi_data.append(oi_row, ignore_index=True)\n",
      "C:\\Users\\tejal\\AppData\\Roaming\\Python\\Python310\\site-packages\\nsepython\\rahu.py:147: FutureWarning: The frame.append method is deprecated and will be removed from pandas in a future version. Use pandas.concat instead.\n",
      "  oi_data = oi_data.append(oi_row, ignore_index=True)\n",
      "C:\\Users\\tejal\\AppData\\Roaming\\Python\\Python310\\site-packages\\nsepython\\rahu.py:147: FutureWarning: The frame.append method is deprecated and will be removed from pandas in a future version. Use pandas.concat instead.\n",
      "  oi_data = oi_data.append(oi_row, ignore_index=True)\n",
      "C:\\Users\\tejal\\AppData\\Roaming\\Python\\Python310\\site-packages\\nsepython\\rahu.py:147: FutureWarning: The frame.append method is deprecated and will be removed from pandas in a future version. Use pandas.concat instead.\n",
      "  oi_data = oi_data.append(oi_row, ignore_index=True)\n",
      "C:\\Users\\tejal\\AppData\\Roaming\\Python\\Python310\\site-packages\\nsepython\\rahu.py:147: FutureWarning: The frame.append method is deprecated and will be removed from pandas in a future version. Use pandas.concat instead.\n",
      "  oi_data = oi_data.append(oi_row, ignore_index=True)\n",
      "C:\\Users\\tejal\\AppData\\Roaming\\Python\\Python310\\site-packages\\nsepython\\rahu.py:147: FutureWarning: The frame.append method is deprecated and will be removed from pandas in a future version. Use pandas.concat instead.\n",
      "  oi_data = oi_data.append(oi_row, ignore_index=True)\n",
      "C:\\Users\\tejal\\AppData\\Roaming\\Python\\Python310\\site-packages\\nsepython\\rahu.py:147: FutureWarning: The frame.append method is deprecated and will be removed from pandas in a future version. Use pandas.concat instead.\n",
      "  oi_data = oi_data.append(oi_row, ignore_index=True)\n",
      "C:\\Users\\tejal\\AppData\\Roaming\\Python\\Python310\\site-packages\\nsepython\\rahu.py:147: FutureWarning: The frame.append method is deprecated and will be removed from pandas in a future version. Use pandas.concat instead.\n",
      "  oi_data = oi_data.append(oi_row, ignore_index=True)\n",
      "C:\\Users\\tejal\\AppData\\Roaming\\Python\\Python310\\site-packages\\nsepython\\rahu.py:147: FutureWarning: The frame.append method is deprecated and will be removed from pandas in a future version. Use pandas.concat instead.\n",
      "  oi_data = oi_data.append(oi_row, ignore_index=True)\n",
      "C:\\Users\\tejal\\AppData\\Roaming\\Python\\Python310\\site-packages\\nsepython\\rahu.py:147: FutureWarning: The frame.append method is deprecated and will be removed from pandas in a future version. Use pandas.concat instead.\n",
      "  oi_data = oi_data.append(oi_row, ignore_index=True)\n",
      "C:\\Users\\tejal\\AppData\\Roaming\\Python\\Python310\\site-packages\\nsepython\\rahu.py:147: FutureWarning: The frame.append method is deprecated and will be removed from pandas in a future version. Use pandas.concat instead.\n",
      "  oi_data = oi_data.append(oi_row, ignore_index=True)\n",
      "C:\\Users\\tejal\\AppData\\Roaming\\Python\\Python310\\site-packages\\nsepython\\rahu.py:147: FutureWarning: The frame.append method is deprecated and will be removed from pandas in a future version. Use pandas.concat instead.\n",
      "  oi_data = oi_data.append(oi_row, ignore_index=True)\n",
      "C:\\Users\\tejal\\AppData\\Roaming\\Python\\Python310\\site-packages\\nsepython\\rahu.py:147: FutureWarning: The frame.append method is deprecated and will be removed from pandas in a future version. Use pandas.concat instead.\n",
      "  oi_data = oi_data.append(oi_row, ignore_index=True)\n",
      "C:\\Users\\tejal\\AppData\\Roaming\\Python\\Python310\\site-packages\\nsepython\\rahu.py:147: FutureWarning: The frame.append method is deprecated and will be removed from pandas in a future version. Use pandas.concat instead.\n",
      "  oi_data = oi_data.append(oi_row, ignore_index=True)\n",
      "C:\\Users\\tejal\\AppData\\Roaming\\Python\\Python310\\site-packages\\nsepython\\rahu.py:147: FutureWarning: The frame.append method is deprecated and will be removed from pandas in a future version. Use pandas.concat instead.\n",
      "  oi_data = oi_data.append(oi_row, ignore_index=True)\n",
      "C:\\Users\\tejal\\AppData\\Roaming\\Python\\Python310\\site-packages\\nsepython\\rahu.py:147: FutureWarning: The frame.append method is deprecated and will be removed from pandas in a future version. Use pandas.concat instead.\n",
      "  oi_data = oi_data.append(oi_row, ignore_index=True)\n",
      "C:\\Users\\tejal\\AppData\\Roaming\\Python\\Python310\\site-packages\\nsepython\\rahu.py:147: FutureWarning: The frame.append method is deprecated and will be removed from pandas in a future version. Use pandas.concat instead.\n",
      "  oi_data = oi_data.append(oi_row, ignore_index=True)\n",
      "C:\\Users\\tejal\\AppData\\Roaming\\Python\\Python310\\site-packages\\nsepython\\rahu.py:147: FutureWarning: The frame.append method is deprecated and will be removed from pandas in a future version. Use pandas.concat instead.\n",
      "  oi_data = oi_data.append(oi_row, ignore_index=True)\n",
      "C:\\Users\\tejal\\AppData\\Roaming\\Python\\Python310\\site-packages\\nsepython\\rahu.py:147: FutureWarning: The frame.append method is deprecated and will be removed from pandas in a future version. Use pandas.concat instead.\n",
      "  oi_data = oi_data.append(oi_row, ignore_index=True)\n",
      "C:\\Users\\tejal\\AppData\\Roaming\\Python\\Python310\\site-packages\\nsepython\\rahu.py:147: FutureWarning: The frame.append method is deprecated and will be removed from pandas in a future version. Use pandas.concat instead.\n",
      "  oi_data = oi_data.append(oi_row, ignore_index=True)\n",
      "C:\\Users\\tejal\\AppData\\Roaming\\Python\\Python310\\site-packages\\nsepython\\rahu.py:147: FutureWarning: The frame.append method is deprecated and will be removed from pandas in a future version. Use pandas.concat instead.\n",
      "  oi_data = oi_data.append(oi_row, ignore_index=True)\n",
      "C:\\Users\\tejal\\AppData\\Roaming\\Python\\Python310\\site-packages\\nsepython\\rahu.py:147: FutureWarning: The frame.append method is deprecated and will be removed from pandas in a future version. Use pandas.concat instead.\n",
      "  oi_data = oi_data.append(oi_row, ignore_index=True)\n",
      "C:\\Users\\tejal\\AppData\\Roaming\\Python\\Python310\\site-packages\\nsepython\\rahu.py:147: FutureWarning: The frame.append method is deprecated and will be removed from pandas in a future version. Use pandas.concat instead.\n",
      "  oi_data = oi_data.append(oi_row, ignore_index=True)\n",
      "C:\\Users\\tejal\\AppData\\Roaming\\Python\\Python310\\site-packages\\nsepython\\rahu.py:147: FutureWarning: The frame.append method is deprecated and will be removed from pandas in a future version. Use pandas.concat instead.\n",
      "  oi_data = oi_data.append(oi_row, ignore_index=True)\n",
      "C:\\Users\\tejal\\AppData\\Roaming\\Python\\Python310\\site-packages\\nsepython\\rahu.py:147: FutureWarning: The frame.append method is deprecated and will be removed from pandas in a future version. Use pandas.concat instead.\n",
      "  oi_data = oi_data.append(oi_row, ignore_index=True)\n",
      "C:\\Users\\tejal\\AppData\\Roaming\\Python\\Python310\\site-packages\\nsepython\\rahu.py:147: FutureWarning: The frame.append method is deprecated and will be removed from pandas in a future version. Use pandas.concat instead.\n",
      "  oi_data = oi_data.append(oi_row, ignore_index=True)\n",
      "C:\\Users\\tejal\\AppData\\Roaming\\Python\\Python310\\site-packages\\nsepython\\rahu.py:147: FutureWarning: The frame.append method is deprecated and will be removed from pandas in a future version. Use pandas.concat instead.\n",
      "  oi_data = oi_data.append(oi_row, ignore_index=True)\n",
      "C:\\Users\\tejal\\AppData\\Roaming\\Python\\Python310\\site-packages\\nsepython\\rahu.py:147: FutureWarning: The frame.append method is deprecated and will be removed from pandas in a future version. Use pandas.concat instead.\n",
      "  oi_data = oi_data.append(oi_row, ignore_index=True)\n",
      "C:\\Users\\tejal\\AppData\\Roaming\\Python\\Python310\\site-packages\\nsepython\\rahu.py:147: FutureWarning: The frame.append method is deprecated and will be removed from pandas in a future version. Use pandas.concat instead.\n",
      "  oi_data = oi_data.append(oi_row, ignore_index=True)\n",
      "C:\\Users\\tejal\\AppData\\Roaming\\Python\\Python310\\site-packages\\nsepython\\rahu.py:147: FutureWarning: The frame.append method is deprecated and will be removed from pandas in a future version. Use pandas.concat instead.\n",
      "  oi_data = oi_data.append(oi_row, ignore_index=True)\n",
      "C:\\Users\\tejal\\AppData\\Roaming\\Python\\Python310\\site-packages\\nsepython\\rahu.py:147: FutureWarning: The frame.append method is deprecated and will be removed from pandas in a future version. Use pandas.concat instead.\n",
      "  oi_data = oi_data.append(oi_row, ignore_index=True)\n",
      "C:\\Users\\tejal\\AppData\\Roaming\\Python\\Python310\\site-packages\\nsepython\\rahu.py:147: FutureWarning: The frame.append method is deprecated and will be removed from pandas in a future version. Use pandas.concat instead.\n",
      "  oi_data = oi_data.append(oi_row, ignore_index=True)\n",
      "C:\\Users\\tejal\\AppData\\Roaming\\Python\\Python310\\site-packages\\nsepython\\rahu.py:147: FutureWarning: The frame.append method is deprecated and will be removed from pandas in a future version. Use pandas.concat instead.\n",
      "  oi_data = oi_data.append(oi_row, ignore_index=True)\n",
      "C:\\Users\\tejal\\AppData\\Roaming\\Python\\Python310\\site-packages\\nsepython\\rahu.py:147: FutureWarning: The frame.append method is deprecated and will be removed from pandas in a future version. Use pandas.concat instead.\n",
      "  oi_data = oi_data.append(oi_row, ignore_index=True)\n",
      "C:\\Users\\tejal\\AppData\\Roaming\\Python\\Python310\\site-packages\\nsepython\\rahu.py:147: FutureWarning: The frame.append method is deprecated and will be removed from pandas in a future version. Use pandas.concat instead.\n",
      "  oi_data = oi_data.append(oi_row, ignore_index=True)\n",
      "C:\\Users\\tejal\\AppData\\Roaming\\Python\\Python310\\site-packages\\nsepython\\rahu.py:147: FutureWarning: The frame.append method is deprecated and will be removed from pandas in a future version. Use pandas.concat instead.\n",
      "  oi_data = oi_data.append(oi_row, ignore_index=True)\n",
      "C:\\Users\\tejal\\AppData\\Roaming\\Python\\Python310\\site-packages\\nsepython\\rahu.py:147: FutureWarning: The frame.append method is deprecated and will be removed from pandas in a future version. Use pandas.concat instead.\n",
      "  oi_data = oi_data.append(oi_row, ignore_index=True)\n",
      "C:\\Users\\tejal\\AppData\\Roaming\\Python\\Python310\\site-packages\\nsepython\\rahu.py:147: FutureWarning: The frame.append method is deprecated and will be removed from pandas in a future version. Use pandas.concat instead.\n",
      "  oi_data = oi_data.append(oi_row, ignore_index=True)\n",
      "C:\\Users\\tejal\\AppData\\Roaming\\Python\\Python310\\site-packages\\nsepython\\rahu.py:147: FutureWarning: The frame.append method is deprecated and will be removed from pandas in a future version. Use pandas.concat instead.\n",
      "  oi_data = oi_data.append(oi_row, ignore_index=True)\n",
      "C:\\Users\\tejal\\AppData\\Roaming\\Python\\Python310\\site-packages\\nsepython\\rahu.py:147: FutureWarning: The frame.append method is deprecated and will be removed from pandas in a future version. Use pandas.concat instead.\n",
      "  oi_data = oi_data.append(oi_row, ignore_index=True)\n"
     ]
    },
    {
     "data": {
      "text/plain": [
       "17656.35"
      ]
     },
     "execution_count": 8,
     "metadata": {},
     "output_type": "execute_result"
    }
   ],
   "source": [
    "oi_data, ltp, crontime = oi_chain_builder(\"NIFTY\")\n",
    "ltp"
   ]
  }
 ],
 "metadata": {
  "kernelspec": {
   "display_name": "Python 3.10.2 64-bit",
   "language": "python",
   "name": "python3"
  },
  "language_info": {
   "codemirror_mode": {
    "name": "ipython",
    "version": 3
   },
   "file_extension": ".py",
   "mimetype": "text/x-python",
   "name": "python",
   "nbconvert_exporter": "python",
   "pygments_lexer": "ipython3",
   "version": "3.10.2"
  },
  "orig_nbformat": 4,
  "vscode": {
   "interpreter": {
    "hash": "26de051ba29f2982a8de78e945f0abaf191376122a1563185a90213a26c5da77"
   }
  }
 },
 "nbformat": 4,
 "nbformat_minor": 2
}
