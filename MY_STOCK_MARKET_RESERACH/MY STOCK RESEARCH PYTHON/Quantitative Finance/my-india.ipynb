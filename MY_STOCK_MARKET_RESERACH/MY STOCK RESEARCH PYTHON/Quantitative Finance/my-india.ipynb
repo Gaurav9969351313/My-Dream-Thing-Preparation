{
 "cells": [
  {
   "cell_type": "code",
   "execution_count": 16,
   "metadata": {},
   "outputs": [
    {
     "data": {
      "text/html": [
       "<div>\n",
       "<style scoped>\n",
       "    .dataframe tbody tr th:only-of-type {\n",
       "        vertical-align: middle;\n",
       "    }\n",
       "\n",
       "    .dataframe tbody tr th {\n",
       "        vertical-align: top;\n",
       "    }\n",
       "\n",
       "    .dataframe thead th {\n",
       "        text-align: right;\n",
       "    }\n",
       "</style>\n",
       "<table border=\"1\" class=\"dataframe\">\n",
       "  <thead>\n",
       "    <tr style=\"text-align: right;\">\n",
       "      <th></th>\n",
       "      <th>0</th>\n",
       "    </tr>\n",
       "  </thead>\n",
       "  <tbody>\n",
       "    <tr>\n",
       "      <th>Stock Symbol</th>\n",
       "      <td>ARTI</td>\n",
       "    </tr>\n",
       "    <tr>\n",
       "      <th>Prev. Close</th>\n",
       "      <td>804.45</td>\n",
       "    </tr>\n",
       "    <tr>\n",
       "      <th>Todays Range</th>\n",
       "      <td>778.05-801.45</td>\n",
       "    </tr>\n",
       "    <tr>\n",
       "      <th>Revenue</th>\n",
       "      <td>72160000000.0</td>\n",
       "    </tr>\n",
       "    <tr>\n",
       "      <th>Open</th>\n",
       "      <td>800.0</td>\n",
       "    </tr>\n",
       "    <tr>\n",
       "      <th>52 wk Range</th>\n",
       "      <td>668.85-1,168</td>\n",
       "    </tr>\n",
       "    <tr>\n",
       "      <th>EPS</th>\n",
       "      <td>36.73</td>\n",
       "    </tr>\n",
       "    <tr>\n",
       "      <th>Volume</th>\n",
       "      <td>1023078.0</td>\n",
       "    </tr>\n",
       "    <tr>\n",
       "      <th>Market Cap</th>\n",
       "      <td>282790000000.0</td>\n",
       "    </tr>\n",
       "    <tr>\n",
       "      <th>Dividend (Yield)</th>\n",
       "      <td>3.50(0.44%)</td>\n",
       "    </tr>\n",
       "    <tr>\n",
       "      <th>Average Vol. (3m)</th>\n",
       "      <td>729674.0</td>\n",
       "    </tr>\n",
       "    <tr>\n",
       "      <th>P/E Ratio</th>\n",
       "      <td>23.86</td>\n",
       "    </tr>\n",
       "    <tr>\n",
       "      <th>Beta</th>\n",
       "      <td>0.722</td>\n",
       "    </tr>\n",
       "    <tr>\n",
       "      <th>1-Year Change</th>\n",
       "      <td>-13.89%</td>\n",
       "    </tr>\n",
       "    <tr>\n",
       "      <th>Shares Outstanding</th>\n",
       "      <td>362504035.0</td>\n",
       "    </tr>\n",
       "    <tr>\n",
       "      <th>Next Earnings Date</th>\n",
       "      <td>11/11/2022</td>\n",
       "    </tr>\n",
       "  </tbody>\n",
       "</table>\n",
       "</div>"
      ],
      "text/plain": [
       "                                 0\n",
       "Stock Symbol                  ARTI\n",
       "Prev. Close                 804.45\n",
       "Todays Range         778.05-801.45\n",
       "Revenue              72160000000.0\n",
       "Open                         800.0\n",
       "52 wk Range           668.85-1,168\n",
       "EPS                          36.73\n",
       "Volume                   1023078.0\n",
       "Market Cap          282790000000.0\n",
       "Dividend (Yield)       3.50(0.44%)\n",
       "Average Vol. (3m)         729674.0\n",
       "P/E Ratio                    23.86\n",
       "Beta                         0.722\n",
       "1-Year Change              -13.89%\n",
       "Shares Outstanding     362504035.0\n",
       "Next Earnings Date      11/11/2022"
      ]
     },
     "execution_count": 16,
     "metadata": {},
     "output_type": "execute_result"
    }
   ],
   "source": [
    "import investpy as inv\n",
    "\n",
    "inv.get_stocks_overview(country=\"India\", \n",
    "                        as_json=False, \n",
    "                        n_results=1000).head(30)\n",
    "\n",
    "inv.get_stock_information(stock=\"ARTI\",\n",
    "                          country=\"India\",\n",
    "                          as_json=False).transpose()"
   ]
  },
  {
   "cell_type": "code",
   "execution_count": 17,
   "metadata": {},
   "outputs": [
    {
     "ename": "ConnectionError",
     "evalue": "ERR#0015: error 403, try again later.",
     "output_type": "error",
     "traceback": [
      "\u001b[1;31m---------------------------------------------------------------------------\u001b[0m",
      "\u001b[1;31mConnectionError\u001b[0m                           Traceback (most recent call last)",
      "\u001b[1;32mc:\\Users\\tejal\\My Drive\\new-bx-ssd-notes\\mutual-fund-data\\Quantitative Finance\\my-india.ipynb Cell 2\u001b[0m in \u001b[0;36m<module>\u001b[1;34m\u001b[0m\n\u001b[1;32m----> <a href='vscode-notebook-cell:/c%3A/Users/tejal/My%20Drive/new-bx-ssd-notes/mutual-fund-data/Quantitative%20Finance/my-india.ipynb#X10sZmlsZQ%3D%3D?line=0'>1</a>\u001b[0m df \u001b[39m=\u001b[39m inv\u001b[39m.\u001b[39;49mget_stock_historical_data(stock\u001b[39m=\u001b[39;49m\u001b[39m\"\u001b[39;49m\u001b[39mARTI\u001b[39;49m\u001b[39m\"\u001b[39;49m,\n\u001b[0;32m      <a href='vscode-notebook-cell:/c%3A/Users/tejal/My%20Drive/new-bx-ssd-notes/mutual-fund-data/Quantitative%20Finance/my-india.ipynb#X10sZmlsZQ%3D%3D?line=1'>2</a>\u001b[0m                                    country\u001b[39m=\u001b[39;49m\u001b[39m\"\u001b[39;49m\u001b[39mIndia\u001b[39;49m\u001b[39m\"\u001b[39;49m,\n\u001b[0;32m      <a href='vscode-notebook-cell:/c%3A/Users/tejal/My%20Drive/new-bx-ssd-notes/mutual-fund-data/Quantitative%20Finance/my-india.ipynb#X10sZmlsZQ%3D%3D?line=2'>3</a>\u001b[0m                                    from_date\u001b[39m=\u001b[39;49m\u001b[39m\"\u001b[39;49m\u001b[39m01/01/2020\u001b[39;49m\u001b[39m\"\u001b[39;49m,\n\u001b[0;32m      <a href='vscode-notebook-cell:/c%3A/Users/tejal/My%20Drive/new-bx-ssd-notes/mutual-fund-data/Quantitative%20Finance/my-india.ipynb#X10sZmlsZQ%3D%3D?line=3'>4</a>\u001b[0m                                    to_date\u001b[39m=\u001b[39;49m\u001b[39m\"\u001b[39;49m\u001b[39m01/01/2021\u001b[39;49m\u001b[39m\"\u001b[39;49m)\n\u001b[0;32m      <a href='vscode-notebook-cell:/c%3A/Users/tejal/My%20Drive/new-bx-ssd-notes/mutual-fund-data/Quantitative%20Finance/my-india.ipynb#X10sZmlsZQ%3D%3D?line=4'>5</a>\u001b[0m df\n",
      "File \u001b[1;32m~\\AppData\\Roaming\\Python\\Python310\\site-packages\\investpy\\stocks.py:664\u001b[0m, in \u001b[0;36mget_stock_historical_data\u001b[1;34m(stock, country, from_date, to_date, as_json, order, interval)\u001b[0m\n\u001b[0;32m    661\u001b[0m req \u001b[39m=\u001b[39m requests\u001b[39m.\u001b[39mpost(url, headers\u001b[39m=\u001b[39mhead, data\u001b[39m=\u001b[39mparams)\n\u001b[0;32m    663\u001b[0m \u001b[39mif\u001b[39;00m req\u001b[39m.\u001b[39mstatus_code \u001b[39m!=\u001b[39m \u001b[39m200\u001b[39m:\n\u001b[1;32m--> 664\u001b[0m     \u001b[39mraise\u001b[39;00m \u001b[39mConnectionError\u001b[39;00m(\n\u001b[0;32m    665\u001b[0m         \u001b[39m\"\u001b[39m\u001b[39mERR#0015: error \u001b[39m\u001b[39m\"\u001b[39m \u001b[39m+\u001b[39m \u001b[39mstr\u001b[39m(req\u001b[39m.\u001b[39mstatus_code) \u001b[39m+\u001b[39m \u001b[39m\"\u001b[39m\u001b[39m, try again later.\u001b[39m\u001b[39m\"\u001b[39m\n\u001b[0;32m    666\u001b[0m     )\n\u001b[0;32m    668\u001b[0m \u001b[39mif\u001b[39;00m \u001b[39mnot\u001b[39;00m req\u001b[39m.\u001b[39mtext:\n\u001b[0;32m    669\u001b[0m     \u001b[39mcontinue\u001b[39;00m\n",
      "\u001b[1;31mConnectionError\u001b[0m: ERR#0015: error 403, try again later."
     ]
    }
   ],
   "source": [
    "df = inv.get_stock_historical_data(stock=\"ARTI\",\n",
    "                                   country=\"India\",\n",
    "                                   from_date=\"01/01/2020\",\n",
    "                                   to_date=\"01/01/2021\")\n",
    "df"
   ]
  },
  {
   "cell_type": "code",
   "execution_count": null,
   "metadata": {},
   "outputs": [],
   "source": [
    "\n",
    "import yfinance as yf\n",
    "from yahoofinancials import YahooFinancials\n",
    "\n",
    "tsla_df = yf.download('ACC', start='2019-01-01', \n",
    "                      end='2019-12-31', progress=False)\n",
    "tsla_df.head()"
   ]
  },
  {
   "cell_type": "code",
   "execution_count": null,
   "metadata": {},
   "outputs": [],
   "source": [
    "ticker = yf.Ticker('TSLA')\n",
    "\n",
    "tsla_df = ticker.history(period=\"max\")\n",
    "\n",
    "tsla_df['Close'].plot(title=\"TSLA's stock price\")"
   ]
  },
  {
   "cell_type": "code",
   "execution_count": 14,
   "metadata": {},
   "outputs": [
    {
     "data": {
      "text/plain": [
       "<AxesSubplot:title={'center':'stock price'}>"
      ]
     },
     "execution_count": 14,
     "metadata": {},
     "output_type": "execute_result"
    },
    {
     "data": {
      "image/png": "[encoded data removed]",
      "text/plain": [
       "<Figure size 432x288 with 1 Axes>"
      ]
     },
     "metadata": {
      "needs_background": "light"
     },
     "output_type": "display_data"
    }
   ],
   "source": [
    "\n",
    "import pandas as pd\n",
    "\n",
    "ticker = 'BAJFINANCE.NS'\n",
    "\n",
    "yahoo_financials = YahooFinancials(ticker)\n",
    "\n",
    "data = yahoo_financials.get_historical_price_data(start_date='2021-01-01', \n",
    "                                                  end_date='2021-12-31', \n",
    "                                                  time_interval='daily')\n",
    "\n",
    "tsla_df = pd.DataFrame(data[ticker]['prices'])\n",
    "tsla_df.tail(100)\n",
    "\n",
    "tsla_df['close'].plot(title=\"stock price\")\n"
   ]
  },
  {
   "cell_type": "code",
   "execution_count": 15,
   "metadata": {},
   "outputs": [
    {
     "data": {
      "text/plain": [
       "{'BAJFINANCE.NS': {'exchange': 'NSI',\n",
       "  'shortName': 'BAJAJ FINANCE LTD',\n",
       "  'longName': 'Bajaj Finance Limited',\n",
       "  'exchangeTimezoneName': 'Asia/Kolkata',\n",
       "  'exchangeTimezoneShortName': 'IST',\n",
       "  'isEsgPopulated': False,\n",
       "  'gmtOffSetMilliseconds': '19800000',\n",
       "  'quoteType': 'EQUITY',\n",
       "  'symbol': 'BAJFINANCE.NS',\n",
       "  'messageBoardId': 'finmb_881576',\n",
       "  'market': 'in_market'}}"
      ]
     },
     "execution_count": 15,
     "metadata": {},
     "output_type": "execute_result"
    }
   ],
   "source": [
    "yahoo_financials.get_stock_quote_type_data()"
   ]
  },
  {
   "cell_type": "code",
   "execution_count": 1,
   "metadata": {},
   "outputs": [
    {
     "data": {
      "text/html": [
       "<div>\n",
       "<style scoped>\n",
       "    .dataframe tbody tr th:only-of-type {\n",
       "        vertical-align: middle;\n",
       "    }\n",
       "\n",
       "    .dataframe tbody tr th {\n",
       "        vertical-align: top;\n",
       "    }\n",
       "\n",
       "    .dataframe thead th {\n",
       "        text-align: right;\n",
       "    }\n",
       "</style>\n",
       "<table border=\"1\" class=\"dataframe\">\n",
       "  <thead>\n",
       "    <tr style=\"text-align: right;\">\n",
       "      <th></th>\n",
       "      <th>0</th>\n",
       "    </tr>\n",
       "  </thead>\n",
       "  <tbody>\n",
       "    <tr>\n",
       "      <th>Recommend.Other</th>\n",
       "      <td>0.090909</td>\n",
       "    </tr>\n",
       "    <tr>\n",
       "      <th>Recommend.All</th>\n",
       "      <td>0.045455</td>\n",
       "    </tr>\n",
       "    <tr>\n",
       "      <th>Recommend.MA</th>\n",
       "      <td>0.000000</td>\n",
       "    </tr>\n",
       "    <tr>\n",
       "      <th>RSI</th>\n",
       "      <td>48.756505</td>\n",
       "    </tr>\n",
       "    <tr>\n",
       "      <th>RSI[1]</th>\n",
       "      <td>45.644528</td>\n",
       "    </tr>\n",
       "    <tr>\n",
       "      <th>...</th>\n",
       "      <td>...</td>\n",
       "    </tr>\n",
       "    <tr>\n",
       "      <th>Pivot.M.Woodie.Middle</th>\n",
       "      <td>2288.000025</td>\n",
       "    </tr>\n",
       "    <tr>\n",
       "      <th>Pivot.M.Woodie.R1</th>\n",
       "      <td>2381.149950</td>\n",
       "    </tr>\n",
       "    <tr>\n",
       "      <th>Pivot.M.Woodie.R2</th>\n",
       "      <td>2460.899925</td>\n",
       "    </tr>\n",
       "    <tr>\n",
       "      <th>Pivot.M.Woodie.R3</th>\n",
       "      <td>2554.049850</td>\n",
       "    </tr>\n",
       "    <tr>\n",
       "      <th>Pivot.M.Demark.S1</th>\n",
       "      <td>2247.275050</td>\n",
       "    </tr>\n",
       "  </tbody>\n",
       "</table>\n",
       "<p>80 rows × 1 columns</p>\n",
       "</div>"
      ],
      "text/plain": [
       "                                 0\n",
       "Recommend.Other           0.090909\n",
       "Recommend.All             0.045455\n",
       "Recommend.MA              0.000000\n",
       "RSI                      48.756505\n",
       "RSI[1]                   45.644528\n",
       "...                            ...\n",
       "Pivot.M.Woodie.Middle  2288.000025\n",
       "Pivot.M.Woodie.R1      2381.149950\n",
       "Pivot.M.Woodie.R2      2460.899925\n",
       "Pivot.M.Woodie.R3      2554.049850\n",
       "Pivot.M.Demark.S1      2247.275050\n",
       "\n",
       "[80 rows x 1 columns]"
      ]
     },
     "execution_count": 1,
     "metadata": {},
     "output_type": "execute_result"
    }
   ],
   "source": [
    "from tradingview_ta import TA_Handler, Interval, Exchange\n",
    "import pandas as pd\n",
    "\n",
    "# https://tvdb.brianthe.dev/\n",
    "tesla = TA_Handler(\n",
    "    symbol=\"ACC\",\n",
    "    screener=\"india\",\n",
    "    exchange=\"NSE\",\n",
    "    interval=Interval.INTERVAL_1_DAY\n",
    ")\n",
    "# print(tesla.get_analysis().indicators)\n",
    "df = pd.DataFrame([tesla.get_analysis().indicators]).transpose()\n",
    "df.head(80)\n",
    "# pip install tvdatafeed"
   ]
  },
  {
   "cell_type": "code",
   "execution_count": null,
   "metadata": {},
   "outputs": [],
   "source": []
  },
  {
   "cell_type": "code",
   "execution_count": null,
   "metadata": {},
   "outputs": [],
   "source": []
  }
 ],
 "metadata": {
  "kernelspec": {
   "display_name": "Python 3.10.2 64-bit",
   "language": "python",
   "name": "python3"
  },
  "language_info": {
   "codemirror_mode": {
    "name": "ipython",
    "version": 3
   },
   "file_extension": ".py",
   "mimetype": "text/x-python",
   "name": "python",
   "nbconvert_exporter": "python",
   "pygments_lexer": "ipython3",
   "version": "3.10.2"
  },
  "orig_nbformat": 4,
  "vscode": {
   "interpreter": {
    "hash": "26de051ba29f2982a8de78e945f0abaf191376122a1563185a90213a26c5da77"
   }
  }
 },
 "nbformat": 4,
 "nbformat_minor": 2
}
